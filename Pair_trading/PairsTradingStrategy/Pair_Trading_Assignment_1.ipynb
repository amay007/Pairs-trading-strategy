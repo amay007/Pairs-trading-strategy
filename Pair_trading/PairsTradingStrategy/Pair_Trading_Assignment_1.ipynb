{
  "nbformat": 4,
  "nbformat_minor": 0,
  "metadata": {
    "colab": {
      "name": "Pair Trading Assignment 1.ipynb",
      "provenance": [],
      "collapsed_sections": [],
      "include_colab_link": true
    },
    "kernelspec": {
      "name": "python3",
      "display_name": "Python 3"
    },
    "language_info": {
      "name": "python"
    }
  },
  "cells": [
    {
      "cell_type": "markdown",
      "metadata": {
        "id": "view-in-github",
        "colab_type": "text"
      },
      "source": [
        "<a href=\"https://colab.research.google.com/github/mniab/PairsTradingStrategy/blob/main/Pair_Trading_Assignment_1.ipynb\" target=\"_parent\"><img src=\"https://colab.research.google.com/assets/colab-badge.svg\" alt=\"Open In Colab\"/></a>"
      ]
    },
    {
      "cell_type": "code",
      "metadata": {
        "colab": {
          "base_uri": "https://localhost:8080/"
        },
        "id": "llQRxXgFEmVh",
        "outputId": "33bcae83-ec64-48fd-9a7c-c00f70d6cbd3"
      },
      "source": [
        "!pip install yfinance"
      ],
      "execution_count": null,
      "outputs": [
        {
          "output_type": "stream",
          "text": [
            "Collecting yfinance\n",
            "  Downloading https://files.pythonhosted.org/packages/79/bd/d64719da8f5367f4d8b16e83507fa1d90942f433f748a4cf3ed7aa515d14/yfinance-0.1.63.tar.gz\n",
            "Requirement already satisfied: pandas>=0.24 in /usr/local/lib/python3.7/dist-packages (from yfinance) (1.1.5)\n",
            "Requirement already satisfied: numpy>=1.15 in /usr/local/lib/python3.7/dist-packages (from yfinance) (1.19.5)\n",
            "Requirement already satisfied: requests>=2.20 in /usr/local/lib/python3.7/dist-packages (from yfinance) (2.23.0)\n",
            "Requirement already satisfied: multitasking>=0.0.7 in /usr/local/lib/python3.7/dist-packages (from yfinance) (0.0.9)\n",
            "Collecting lxml>=4.5.1\n",
            "\u001b[?25l  Downloading https://files.pythonhosted.org/packages/30/c0/d0526314971fc661b083ab135747dc68446a3022686da8c16d25fcf6ef07/lxml-4.6.3-cp37-cp37m-manylinux2014_x86_64.whl (6.3MB)\n",
            "\u001b[K     |████████████████████████████████| 6.3MB 15.0MB/s \n",
            "\u001b[?25hRequirement already satisfied: pytz>=2017.2 in /usr/local/lib/python3.7/dist-packages (from pandas>=0.24->yfinance) (2018.9)\n",
            "Requirement already satisfied: python-dateutil>=2.7.3 in /usr/local/lib/python3.7/dist-packages (from pandas>=0.24->yfinance) (2.8.1)\n",
            "Requirement already satisfied: urllib3!=1.25.0,!=1.25.1,<1.26,>=1.21.1 in /usr/local/lib/python3.7/dist-packages (from requests>=2.20->yfinance) (1.24.3)\n",
            "Requirement already satisfied: idna<3,>=2.5 in /usr/local/lib/python3.7/dist-packages (from requests>=2.20->yfinance) (2.10)\n",
            "Requirement already satisfied: certifi>=2017.4.17 in /usr/local/lib/python3.7/dist-packages (from requests>=2.20->yfinance) (2021.5.30)\n",
            "Requirement already satisfied: chardet<4,>=3.0.2 in /usr/local/lib/python3.7/dist-packages (from requests>=2.20->yfinance) (3.0.4)\n",
            "Requirement already satisfied: six>=1.5 in /usr/local/lib/python3.7/dist-packages (from python-dateutil>=2.7.3->pandas>=0.24->yfinance) (1.15.0)\n",
            "Building wheels for collected packages: yfinance\n",
            "  Building wheel for yfinance (setup.py) ... \u001b[?25l\u001b[?25hdone\n",
            "  Created wheel for yfinance: filename=yfinance-0.1.63-py2.py3-none-any.whl size=23919 sha256=eb7c6aa04ce9d037e6fc2400b8cae788cb7cc9cab3940b9e21bfa756e2f42d80\n",
            "  Stored in directory: /root/.cache/pip/wheels/fe/a0/79/b73d4a0c535b421b88fc7b393936b371fabbfeaf979eca4050\n",
            "Successfully built yfinance\n",
            "Installing collected packages: lxml, yfinance\n",
            "  Found existing installation: lxml 4.2.6\n",
            "    Uninstalling lxml-4.2.6:\n",
            "      Successfully uninstalled lxml-4.2.6\n",
            "Successfully installed lxml-4.6.3 yfinance-0.1.63\n"
          ],
          "name": "stdout"
        }
      ]
    },
    {
      "cell_type": "code",
      "metadata": {
        "id": "OYFYFkGi48Dg"
      },
      "source": [
        "# import the libraries\n",
        " \n",
        "import numpy as np\n",
        "import pandas as pd\n",
        "import statsmodels\n",
        "from statsmodels.tsa.stattools import coint   # use this library to find this out the p_value\n",
        "import matplotlib.pyplot as plt\n",
        "from pandas_datareader import data as pdr\n",
        "from functools import cmp_to_key\n",
        "import datetime\n",
        "import yfinance as yf\n"
      ],
      "execution_count": null,
      "outputs": []
    },
    {
      "cell_type": "code",
      "metadata": {
        "id": "2SmQy2qQ5UP0"
      },
      "source": [
        "# predefined functions in this cell ,  no need to chagne them\n",
        " \n",
        "def downloadStockData(tickers,start,end):\n",
        "    \"\"\"\n",
        "        This function downloads the Close price of the stock and creates a dataframe from it\n",
        "        Params:\n",
        "            tickers : a list of ticker of various stocks\n",
        "            start   : it is the start date of the data to be downloaded. It is a datetime in datetime format.\n",
        "            end     : it is the end date of the data to be downloaded. It is a datetime in datetime format.\n",
        " \n",
        "        Return:\n",
        "            A dataframe with all the close for of each stock on each open market day\n",
        "    \"\"\"\n",
        "    ticker_data = yf.download(tickers, start, end)['Close']\n",
        "    return ticker_data\n",
        " \n",
        "def zscore(series):\n",
        "    newSeries = series.copy()\n",
        "    for i in range(len(newSeries)):\n",
        "        x = (newSeries[i] - newSeries[:i+1].mean()) / np.std(newSeries[:i+1])\n",
        "        series[i]= x\n",
        "    return series\n",
        "def plot_ratios(ratios):\n",
        "    \"\"\"\n",
        "        This function just plots the ratios plot \n",
        "        Params:\n",
        "            ratio : a list of the the ration of two stock price \n",
        "    \"\"\"\n",
        "    ratios.plot()\n",
        "    plt.axhline(ratios.mean(),color=\"yellow\")\n",
        "    plt.show()"
      ],
      "execution_count": null,
      "outputs": []
    },
    {
      "cell_type": "code",
      "metadata": {
        "id": "lNUsKIMX5ZzR"
      },
      "source": [
        "def findCointegrationValue(data,p_value_threshold=0.05):\n",
        "    \"\"\"\n",
        "        This function find out the pairs of stock with p value less than a constant\n",
        "        Params:\n",
        "            data               : the dataframe containning all the close for of each stock on each open market day\n",
        "            p_value_threshold  : the threshold value for the p value of pairs of stocks. We consider a 2 stocks to be cointegrted only if the p value is less than this value\n",
        "\n",
        "        Returns:\n",
        "            p values of all the pairs , the list of all the pairs with p value less than the threshold \n",
        "    \"\"\"\n",
        "    n = data.shape[1]\n",
        "    p_values_matrix = np.ones((n,n));\n",
        "    keys = data.keys();\n",
        "    pairs = []\n",
        "    for i in range(n):\n",
        "      for j in range(i+1,n):\n",
        "        S1 = data[keys[i]]\n",
        "        S2 = data[keys[j]]\n",
        "        result = coint(S1,S2)\n",
        "        score = result[0]\n",
        "        pvalue = result[1]\n",
        "        p_values_matrix[i,j]=pvalue\n",
        "        if(pvalue < p_value_threshold):\n",
        "          pairs.append(((i,j),pvalue))\n",
        "        \n",
        "    return p_values_matrix,pairs"
      ],
      "execution_count": null,
      "outputs": []
    },
    {
      "cell_type": "code",
      "metadata": {
        "id": "JR1C2fx_EqlS"
      },
      "source": [
        "def compare(x,y):\n",
        "  return x[1]-y[1]"
      ],
      "execution_count": null,
      "outputs": []
    },
    {
      "cell_type": "code",
      "metadata": {
        "id": "6kvr4Kbv63G-"
      },
      "source": [
        "def getBestKCointergratedStocks(data,k=10,p_value_threshold=0.05):\n",
        "    \"\"\"\n",
        "        This functions find out the k pairs with the least p value and all of them should be less than the threshold  \n",
        "        Params:\n",
        "            data               : the dataframe containning all the close for of each stock on each open market day\n",
        "            k                  : the number of pairs to be found out\n",
        "            p_value_threshold  : the threshold value for the p value of pairs of stocks. We consider a 2 stocks to be cointegrted only if the p value is less than this value\n",
        "\n",
        "        Returns:\n",
        "            the p value for all the pairs of stocks , the list k pairs with the least p value and their p values . If k such pairs doesn't exists return how many of them occur \n",
        "    \"\"\"\n",
        "    p_values_matrix, pairs = findCointegrationValue(data)\n",
        "    tem=sorted(pairs,key=cmp_to_key(compare))\n",
        "    if len(tem) < k:\n",
        "      return p_values_matrix,tem\n",
        "    return p_values_matrix,tem[0:k]\n",
        "   "
      ],
      "execution_count": null,
      "outputs": []
    },
    {
      "cell_type": "code",
      "metadata": {
        "id": "LDi0purqCKZ_"
      },
      "source": [
        "def normalize(series):\n",
        "  return series-series.min()/(series.max()-series.min())"
      ],
      "execution_count": null,
      "outputs": []
    },
    {
      "cell_type": "code",
      "metadata": {
        "id": "X0bvyXcX7-ft"
      },
      "source": [
        "def distanceBetweenStocks(data1,data2,window_size):\n",
        "    \"\"\"\n",
        "        This function takes list of two stocks and find the distance between the stocks \n",
        "        Params:\n",
        "            data1: list of stock price of stock1\n",
        "            data2: list of stock price of stock2\n",
        "            window_size : the window size\n",
        "        Returns:\n",
        "            the distance between the lists\n",
        "\n",
        "        Note:\n",
        "            In this function do try to normalise the stock price and try out some variations in it.\n",
        "    \"\"\"\n",
        "    data1 = normalize(data1)\n",
        "    data2 = normalize(data2)\n",
        "    distance=0 \n",
        "    for i in range(len(data1)):\n",
        "      distance += (data1[i] - data2[i])**2\n",
        "    \n",
        "    return distance\n"
      ],
      "execution_count": null,
      "outputs": []
    },
    {
      "cell_type": "code",
      "metadata": {
        "id": "8StOlGmQ-2na"
      },
      "source": [
        "def getBestKLessDistanceStocks(data,k=10):\n",
        "    \"\"\"\n",
        "        This functions find out the k pairs with the least distance between them  \n",
        "        Params:\n",
        "            data               : the dataframe containning all the close for of each stock on each open market day\n",
        "            k                  : the number of pairs to be found out\n",
        "            \n",
        "        Returns:\n",
        "            the distance between all the stock pairs, the list of k pairs with the least distance between them\n",
        "    \"\"\"\n",
        "    n = data.shape[1]\n",
        "    keys=data.keys();\n",
        "    pairs=[]\n",
        "    _distance=np.ones((n,n))\n",
        "    for i in range(n):\n",
        "      for j in range (i+1,n):\n",
        "        d1=data[keys[i]]\n",
        "        d2=data[keys[j]]\n",
        "        ans=distanceBetweenStocks(d1,d2,100)\n",
        "        _distance[i][j]=ans\n",
        "        pairs.append((i,j))\n",
        "    \n",
        "    pairs.sort(key=cmp_to_key(compare))\n",
        "    if(len(pairs)<k):\n",
        "      return _distance,pairs\n",
        "    return _distance,pairs[0:k]"
      ],
      "execution_count": null,
      "outputs": []
    },
    {
      "cell_type": "code",
      "metadata": {
        "id": "oz7WGj5s_6RB",
        "colab": {
          "base_uri": "https://localhost:8080/"
        },
        "outputId": "908fb120-e0b6-4e50-f488-2f7b0625fd56"
      },
      "source": [
        "tickers = ['HD', 'DIS','MSFT', 'BA', 'MMM', 'PFE', 'NKE', 'JNJ', 'MCD', 'INTC', 'XOM', 'GS', 'JPM', 'AXP', 'V', 'IBM', 'UNH', 'PG', 'GE', 'KO', 'CSCO', 'CVX', 'CAT', 'MRK', 'WMT', 'VZ', 'RTX', 'TRV', 'AAPL', 'ADBE', 'EBAY', 'QCOM', 'HPQ', 'JNPR', 'AMD']\n",
        "start = datetime.datetime(2011,1,1)\n",
        "end = datetime.datetime(2017,1,1)\n",
        "data = downloadStockData(tickers,start,end)"
      ],
      "execution_count": null,
      "outputs": [
        {
          "output_type": "stream",
          "text": [
            "[*********************100%***********************]  35 of 35 completed\n"
          ],
          "name": "stdout"
        }
      ]
    },
    {
      "cell_type": "code",
      "metadata": {
        "id": "1S_BGo_7AlnM",
        "colab": {
          "base_uri": "https://localhost:8080/",
          "height": 422
        },
        "outputId": "120a7ea4-55be-41f0-ca9b-14ec37deaeab"
      },
      "source": [
        "data.head(5)"
      ],
      "execution_count": null,
      "outputs": [
        {
          "output_type": "execute_result",
          "data": {
            "text/html": [
              "<div>\n",
              "<style scoped>\n",
              "    .dataframe tbody tr th:only-of-type {\n",
              "        vertical-align: middle;\n",
              "    }\n",
              "\n",
              "    .dataframe tbody tr th {\n",
              "        vertical-align: top;\n",
              "    }\n",
              "\n",
              "    .dataframe thead th {\n",
              "        text-align: right;\n",
              "    }\n",
              "</style>\n",
              "<table border=\"1\" class=\"dataframe\">\n",
              "  <thead>\n",
              "    <tr style=\"text-align: right;\">\n",
              "      <th></th>\n",
              "      <th>AAPL</th>\n",
              "      <th>ADBE</th>\n",
              "      <th>AMD</th>\n",
              "      <th>AXP</th>\n",
              "      <th>BA</th>\n",
              "      <th>CAT</th>\n",
              "      <th>CSCO</th>\n",
              "      <th>CVX</th>\n",
              "      <th>DIS</th>\n",
              "      <th>EBAY</th>\n",
              "      <th>GE</th>\n",
              "      <th>GS</th>\n",
              "      <th>HD</th>\n",
              "      <th>HPQ</th>\n",
              "      <th>IBM</th>\n",
              "      <th>INTC</th>\n",
              "      <th>JNJ</th>\n",
              "      <th>JNPR</th>\n",
              "      <th>JPM</th>\n",
              "      <th>KO</th>\n",
              "      <th>MCD</th>\n",
              "      <th>MMM</th>\n",
              "      <th>MRK</th>\n",
              "      <th>MSFT</th>\n",
              "      <th>NKE</th>\n",
              "      <th>PFE</th>\n",
              "      <th>PG</th>\n",
              "      <th>QCOM</th>\n",
              "      <th>RTX</th>\n",
              "      <th>TRV</th>\n",
              "      <th>UNH</th>\n",
              "      <th>V</th>\n",
              "      <th>VZ</th>\n",
              "      <th>WMT</th>\n",
              "      <th>XOM</th>\n",
              "    </tr>\n",
              "    <tr>\n",
              "      <th>Date</th>\n",
              "      <th></th>\n",
              "      <th></th>\n",
              "      <th></th>\n",
              "      <th></th>\n",
              "      <th></th>\n",
              "      <th></th>\n",
              "      <th></th>\n",
              "      <th></th>\n",
              "      <th></th>\n",
              "      <th></th>\n",
              "      <th></th>\n",
              "      <th></th>\n",
              "      <th></th>\n",
              "      <th></th>\n",
              "      <th></th>\n",
              "      <th></th>\n",
              "      <th></th>\n",
              "      <th></th>\n",
              "      <th></th>\n",
              "      <th></th>\n",
              "      <th></th>\n",
              "      <th></th>\n",
              "      <th></th>\n",
              "      <th></th>\n",
              "      <th></th>\n",
              "      <th></th>\n",
              "      <th></th>\n",
              "      <th></th>\n",
              "      <th></th>\n",
              "      <th></th>\n",
              "      <th></th>\n",
              "      <th></th>\n",
              "      <th></th>\n",
              "      <th></th>\n",
              "      <th></th>\n",
              "    </tr>\n",
              "  </thead>\n",
              "  <tbody>\n",
              "    <tr>\n",
              "      <th>2011-01-03</th>\n",
              "      <td>11.770357</td>\n",
              "      <td>31.290001</td>\n",
              "      <td>8.47</td>\n",
              "      <td>43.400002</td>\n",
              "      <td>66.400002</td>\n",
              "      <td>94.150002</td>\n",
              "      <td>20.490000</td>\n",
              "      <td>91.940002</td>\n",
              "      <td>37.820000</td>\n",
              "      <td>12.070707</td>\n",
              "      <td>17.576923</td>\n",
              "      <td>173.050003</td>\n",
              "      <td>35.310001</td>\n",
              "      <td>19.409628</td>\n",
              "      <td>147.479996</td>\n",
              "      <td>20.850000</td>\n",
              "      <td>62.820000</td>\n",
              "      <td>37.240002</td>\n",
              "      <td>43.580002</td>\n",
              "      <td>32.610001</td>\n",
              "      <td>76.599998</td>\n",
              "      <td>86.790001</td>\n",
              "      <td>34.389313</td>\n",
              "      <td>27.98</td>\n",
              "      <td>21.522499</td>\n",
              "      <td>16.774195</td>\n",
              "      <td>64.769997</td>\n",
              "      <td>50.180000</td>\n",
              "      <td>49.710510</td>\n",
              "      <td>55.820000</td>\n",
              "      <td>37.130001</td>\n",
              "      <td>17.629999</td>\n",
              "      <td>36.430000</td>\n",
              "      <td>54.560001</td>\n",
              "      <td>74.550003</td>\n",
              "    </tr>\n",
              "    <tr>\n",
              "      <th>2011-01-04</th>\n",
              "      <td>11.831786</td>\n",
              "      <td>31.510000</td>\n",
              "      <td>8.77</td>\n",
              "      <td>43.950001</td>\n",
              "      <td>66.940002</td>\n",
              "      <td>93.709999</td>\n",
              "      <td>20.520000</td>\n",
              "      <td>91.599998</td>\n",
              "      <td>38.990002</td>\n",
              "      <td>11.982323</td>\n",
              "      <td>17.894232</td>\n",
              "      <td>173.080002</td>\n",
              "      <td>34.669998</td>\n",
              "      <td>19.813807</td>\n",
              "      <td>147.639999</td>\n",
              "      <td>21.150000</td>\n",
              "      <td>63.349998</td>\n",
              "      <td>37.160000</td>\n",
              "      <td>44.160000</td>\n",
              "      <td>31.934999</td>\n",
              "      <td>74.309998</td>\n",
              "      <td>86.669998</td>\n",
              "      <td>34.685116</td>\n",
              "      <td>28.09</td>\n",
              "      <td>20.992500</td>\n",
              "      <td>17.068312</td>\n",
              "      <td>64.949997</td>\n",
              "      <td>50.970001</td>\n",
              "      <td>49.792320</td>\n",
              "      <td>55.570000</td>\n",
              "      <td>37.470001</td>\n",
              "      <td>17.650000</td>\n",
              "      <td>37.160000</td>\n",
              "      <td>54.770000</td>\n",
              "      <td>74.900002</td>\n",
              "    </tr>\n",
              "    <tr>\n",
              "      <th>2011-01-05</th>\n",
              "      <td>11.928571</td>\n",
              "      <td>32.220001</td>\n",
              "      <td>8.91</td>\n",
              "      <td>45.040001</td>\n",
              "      <td>67.480003</td>\n",
              "      <td>94.519997</td>\n",
              "      <td>20.770000</td>\n",
              "      <td>91.440002</td>\n",
              "      <td>39.959999</td>\n",
              "      <td>12.091751</td>\n",
              "      <td>17.923077</td>\n",
              "      <td>174.000000</td>\n",
              "      <td>34.560001</td>\n",
              "      <td>20.072660</td>\n",
              "      <td>147.050003</td>\n",
              "      <td>20.940001</td>\n",
              "      <td>63.310001</td>\n",
              "      <td>37.880001</td>\n",
              "      <td>44.700001</td>\n",
              "      <td>31.745001</td>\n",
              "      <td>74.660004</td>\n",
              "      <td>86.669998</td>\n",
              "      <td>34.885494</td>\n",
              "      <td>28.00</td>\n",
              "      <td>21.129999</td>\n",
              "      <td>17.182163</td>\n",
              "      <td>64.800003</td>\n",
              "      <td>52.029999</td>\n",
              "      <td>49.861549</td>\n",
              "      <td>55.240002</td>\n",
              "      <td>37.590000</td>\n",
              "      <td>18.022499</td>\n",
              "      <td>37.669998</td>\n",
              "      <td>54.410000</td>\n",
              "      <td>74.699997</td>\n",
              "    </tr>\n",
              "    <tr>\n",
              "      <th>2011-01-06</th>\n",
              "      <td>11.918929</td>\n",
              "      <td>32.270000</td>\n",
              "      <td>8.69</td>\n",
              "      <td>44.730000</td>\n",
              "      <td>68.800003</td>\n",
              "      <td>93.540001</td>\n",
              "      <td>20.950001</td>\n",
              "      <td>90.690002</td>\n",
              "      <td>39.650002</td>\n",
              "      <td>11.961279</td>\n",
              "      <td>17.846153</td>\n",
              "      <td>172.210007</td>\n",
              "      <td>34.419998</td>\n",
              "      <td>20.381472</td>\n",
              "      <td>148.660004</td>\n",
              "      <td>20.770000</td>\n",
              "      <td>63.209999</td>\n",
              "      <td>38.209999</td>\n",
              "      <td>44.480000</td>\n",
              "      <td>31.514999</td>\n",
              "      <td>74.209999</td>\n",
              "      <td>86.139999</td>\n",
              "      <td>35.362595</td>\n",
              "      <td>28.82</td>\n",
              "      <td>20.940001</td>\n",
              "      <td>17.248577</td>\n",
              "      <td>64.690002</td>\n",
              "      <td>52.669998</td>\n",
              "      <td>49.811203</td>\n",
              "      <td>54.389999</td>\n",
              "      <td>38.369999</td>\n",
              "      <td>18.292500</td>\n",
              "      <td>36.230000</td>\n",
              "      <td>53.959999</td>\n",
              "      <td>75.180000</td>\n",
              "    </tr>\n",
              "    <tr>\n",
              "      <th>2011-01-07</th>\n",
              "      <td>12.004286</td>\n",
              "      <td>32.040001</td>\n",
              "      <td>8.83</td>\n",
              "      <td>44.360001</td>\n",
              "      <td>69.379997</td>\n",
              "      <td>93.730003</td>\n",
              "      <td>20.969999</td>\n",
              "      <td>91.190002</td>\n",
              "      <td>39.450001</td>\n",
              "      <td>11.658249</td>\n",
              "      <td>17.721153</td>\n",
              "      <td>170.690002</td>\n",
              "      <td>34.380001</td>\n",
              "      <td>20.476839</td>\n",
              "      <td>147.929993</td>\n",
              "      <td>20.660000</td>\n",
              "      <td>62.599998</td>\n",
              "      <td>37.590000</td>\n",
              "      <td>43.639999</td>\n",
              "      <td>31.459999</td>\n",
              "      <td>74.370003</td>\n",
              "      <td>86.230003</td>\n",
              "      <td>35.639313</td>\n",
              "      <td>28.60</td>\n",
              "      <td>20.882500</td>\n",
              "      <td>17.400379</td>\n",
              "      <td>64.500000</td>\n",
              "      <td>51.730000</td>\n",
              "      <td>49.767151</td>\n",
              "      <td>53.330002</td>\n",
              "      <td>38.450001</td>\n",
              "      <td>18.240000</td>\n",
              "      <td>35.930000</td>\n",
              "      <td>54.080002</td>\n",
              "      <td>75.589996</td>\n",
              "    </tr>\n",
              "  </tbody>\n",
              "</table>\n",
              "</div>"
            ],
            "text/plain": [
              "                 AAPL       ADBE   AMD  ...         VZ        WMT        XOM\n",
              "Date                                    ...                                 \n",
              "2011-01-03  11.770357  31.290001  8.47  ...  36.430000  54.560001  74.550003\n",
              "2011-01-04  11.831786  31.510000  8.77  ...  37.160000  54.770000  74.900002\n",
              "2011-01-05  11.928571  32.220001  8.91  ...  37.669998  54.410000  74.699997\n",
              "2011-01-06  11.918929  32.270000  8.69  ...  36.230000  53.959999  75.180000\n",
              "2011-01-07  12.004286  32.040001  8.83  ...  35.930000  54.080002  75.589996\n",
              "\n",
              "[5 rows x 35 columns]"
            ]
          },
          "metadata": {
            "tags": []
          },
          "execution_count": 25
        }
      ]
    },
    {
      "cell_type": "code",
      "metadata": {
        "id": "3xoFzbiUEK0y",
        "colab": {
          "base_uri": "https://localhost:8080/"
        },
        "outputId": "d09b096a-0be5-4de4-c31b-2a71bc35c054"
      },
      "source": [
        "p_value_matrix,bestCointegrated = getBestKCointergratedStocks(data)\n",
        "bestCointegrated"
      ],
      "execution_count": null,
      "outputs": [
        {
          "output_type": "execute_result",
          "data": {
            "text/plain": [
              "[((6, 29), 0.002128866355935751),\n",
              " ((19, 32), 0.00631237685580102),\n",
              " ((29, 31), 0.006740618270852377),\n",
              " ((6, 31), 0.008528399740011761),\n",
              " ((27, 34), 0.009682038801937767),\n",
              " ((6, 12), 0.011410367412724205),\n",
              " ((14, 24), 0.012435151410666673),\n",
              " ((1, 23), 0.013090705373873504),\n",
              " ((6, 21), 0.016258595664209084),\n",
              " ((19, 25), 0.016729291913997545)]"
            ]
          },
          "metadata": {
            "tags": []
          },
          "execution_count": 26
        }
      ]
    },
    {
      "cell_type": "code",
      "metadata": {
        "id": "_QnJiPPlP0Cz"
      },
      "source": [
        "keys=data.keys()"
      ],
      "execution_count": null,
      "outputs": []
    },
    {
      "cell_type": "markdown",
      "metadata": {
        "id": "ZXZKKBH5RWAA"
      },
      "source": [
        "The lowest P-value showing the maximum cointegration is plotted below"
      ]
    },
    {
      "cell_type": "code",
      "metadata": {
        "id": "qKaUvgO7QOim",
        "colab": {
          "base_uri": "https://localhost:8080/",
          "height": 319
        },
        "outputId": "b1f2b5cb-1c31-4d14-a55a-cd8b3122d763"
      },
      "source": [
        "S1=keys[bestCointegrated[0][0][0]]\n",
        "S2=keys[bestCointegrated[0][0][1]]\n",
        "ratios = data[S1]/data[S2]\n",
        "zscore(ratios).plot()\n",
        "plt.axhline(zscore(ratios).mean(),color=\"yellow\")\n",
        "plt.axhline(0.5, color=\"red\")\n",
        "plt.axhline(-0.05, color=\"green\")\n",
        "plt.show()\n",
        "print(S1,S2)"
      ],
      "execution_count": null,
      "outputs": [
        {
          "output_type": "stream",
          "text": [
            "/usr/local/lib/python3.7/dist-packages/ipykernel_launcher.py:20: RuntimeWarning: invalid value encountered in double_scalars\n",
            "/usr/local/lib/python3.7/dist-packages/ipykernel_launcher.py:20: RuntimeWarning: invalid value encountered in double_scalars\n"
          ],
          "name": "stderr"
        },
        {
          "output_type": "display_data",
          "data": {
            "image/png": "[encoded data removed]",
            "text/plain": [
              "<Figure size 432x288 with 1 Axes>"
            ]
          },
          "metadata": {
            "tags": [],
            "needs_background": "light"
          }
        },
        {
          "output_type": "stream",
          "text": [
            "CSCO TRV\n"
          ],
          "name": "stdout"
        }
      ]
    },
    {
      "cell_type": "code",
      "metadata": {
        "id": "V2B4DqRGSidK",
        "colab": {
          "base_uri": "https://localhost:8080/",
          "height": 302
        },
        "outputId": "676cab80-b410-4280-da70-4c9ce326d4ad"
      },
      "source": [
        "ratios=data['HD'].copy()/data['TRV'].copy() \n",
        "zscore(ratios).plot()\n",
        "plt.axhline(zscore(ratios).mean(),color=\"yellow\")\n",
        "plt.axhline(0.5, color=\"red\")\n",
        "plt.axhline(-0.05, color=\"green\")\n",
        "plt.show()"
      ],
      "execution_count": null,
      "outputs": [
        {
          "output_type": "stream",
          "text": [
            "/usr/local/lib/python3.7/dist-packages/ipykernel_launcher.py:20: RuntimeWarning: invalid value encountered in double_scalars\n",
            "/usr/local/lib/python3.7/dist-packages/ipykernel_launcher.py:20: RuntimeWarning: invalid value encountered in double_scalars\n"
          ],
          "name": "stderr"
        },
        {
          "output_type": "display_data",
          "data": {
            "image/png": "[encoded data removed]",
            "text/plain": [
              "<Figure size 432x288 with 1 Axes>"
            ]
          },
          "metadata": {
            "tags": [],
            "needs_background": "light"
          }
        }
      ]
    },
    {
      "cell_type": "code",
      "metadata": {
        "id": "8_B_4RlmIi4S"
      },
      "source": [
        ""
      ],
      "execution_count": null,
      "outputs": []
    }
  ]
}